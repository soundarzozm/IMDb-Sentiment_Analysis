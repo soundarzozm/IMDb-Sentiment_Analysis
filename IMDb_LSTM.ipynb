{
  "nbformat": 4,
  "nbformat_minor": 0,
  "metadata": {
    "colab": {
      "name": "IMDb LSTM.ipynb",
      "provenance": [],
      "collapsed_sections": []
    },
    "kernelspec": {
      "name": "python3",
      "display_name": "Python 3"
    },
    "accelerator": "GPU"
  },
  "cells": [
    {
      "cell_type": "markdown",
      "metadata": {
        "id": "tl3btN6yAoGM",
        "colab_type": "text"
      },
      "source": [
        "<h1>IMDb Reviews Sentiment Analysis using RNN</h1>\n",
        "\n",
        "Welcome to the notebook!<br>\n",
        "We'll be performing sentiment analysis on the [IMDb reviews dataset](https://www.dropbox.com/s/bjk9tydkqrza8p8/IMDb_Reviews.csv?dl=1) with 86% accuracy.<br>\n",
        "<br>\n",
        "Let's get started by importing the necessary libraries."
      ]
    },
    {
      "cell_type": "code",
      "metadata": {
        "id": "h-oaZcvOrtQ9",
        "colab_type": "code",
        "colab": {
          "base_uri": "https://localhost:8080/",
          "height": 52
        },
        "outputId": "6c187750-6b5c-4951-c68f-ad8308e010a3"
      },
      "source": [
        "import pandas as pd\n",
        "import numpy as np\n",
        "import tensorflow as tf\n",
        "print(tf.__version__)\n",
        "\"\"\"from pyspark import SparkContext, SparkConf\n",
        "from pyspark.sql import SparkSession\"\"\""
      ],
      "execution_count": 1,
      "outputs": [
        {
          "output_type": "stream",
          "text": [
            "2.3.0\n"
          ],
          "name": "stdout"
        },
        {
          "output_type": "execute_result",
          "data": {
            "application/vnd.google.colaboratory.intrinsic+json": {
              "type": "string"
            },
            "text/plain": [
              "'from pyspark import SparkContext, SparkConf\\nfrom pyspark.sql import SparkSession'"
            ]
          },
          "metadata": {
            "tags": []
          },
          "execution_count": 1
        }
      ]
    },
    {
      "cell_type": "markdown",
      "metadata": {
        "id": "ozd6S-MkBkn1",
        "colab_type": "text"
      },
      "source": [
        "Let's download the dataset and create a pandas dataframe out of it."
      ]
    },
    {
      "cell_type": "code",
      "metadata": {
        "id": "5d7EVn-Vr8wq",
        "colab_type": "code",
        "colab": {
          "base_uri": "https://localhost:8080/",
          "height": 195
        },
        "outputId": "aaf0ff6e-c10b-4743-ee30-4ee251af8040"
      },
      "source": [
        "df = pd.read_csv(\"https://www.dropbox.com/s/bjk9tydkqrza8p8/IMDb_Reviews.csv?dl=1\")\n",
        "df.head()"
      ],
      "execution_count": 2,
      "outputs": [
        {
          "output_type": "execute_result",
          "data": {
            "text/html": [
              "<div>\n",
              "<style scoped>\n",
              "    .dataframe tbody tr th:only-of-type {\n",
              "        vertical-align: middle;\n",
              "    }\n",
              "\n",
              "    .dataframe tbody tr th {\n",
              "        vertical-align: top;\n",
              "    }\n",
              "\n",
              "    .dataframe thead th {\n",
              "        text-align: right;\n",
              "    }\n",
              "</style>\n",
              "<table border=\"1\" class=\"dataframe\">\n",
              "  <thead>\n",
              "    <tr style=\"text-align: right;\">\n",
              "      <th></th>\n",
              "      <th>review</th>\n",
              "      <th>sentiment</th>\n",
              "    </tr>\n",
              "  </thead>\n",
              "  <tbody>\n",
              "    <tr>\n",
              "      <th>0</th>\n",
              "      <td>My family and I normally do not watch local mo...</td>\n",
              "      <td>1</td>\n",
              "    </tr>\n",
              "    <tr>\n",
              "      <th>1</th>\n",
              "      <td>Believe it or not, this was at one time the wo...</td>\n",
              "      <td>0</td>\n",
              "    </tr>\n",
              "    <tr>\n",
              "      <th>2</th>\n",
              "      <td>After some internet surfing, I found the \"Home...</td>\n",
              "      <td>0</td>\n",
              "    </tr>\n",
              "    <tr>\n",
              "      <th>3</th>\n",
              "      <td>One of the most unheralded great works of anim...</td>\n",
              "      <td>1</td>\n",
              "    </tr>\n",
              "    <tr>\n",
              "      <th>4</th>\n",
              "      <td>It was the Sixties, and anyone with long hair ...</td>\n",
              "      <td>0</td>\n",
              "    </tr>\n",
              "  </tbody>\n",
              "</table>\n",
              "</div>"
            ],
            "text/plain": [
              "                                              review  sentiment\n",
              "0  My family and I normally do not watch local mo...          1\n",
              "1  Believe it or not, this was at one time the wo...          0\n",
              "2  After some internet surfing, I found the \"Home...          0\n",
              "3  One of the most unheralded great works of anim...          1\n",
              "4  It was the Sixties, and anyone with long hair ...          0"
            ]
          },
          "metadata": {
            "tags": []
          },
          "execution_count": 2
        }
      ]
    },
    {
      "cell_type": "code",
      "metadata": {
        "id": "-wC1h_MvFjlr",
        "colab_type": "code",
        "colab": {}
      },
      "source": [
        ""
      ],
      "execution_count": 2,
      "outputs": []
    },
    {
      "cell_type": "markdown",
      "metadata": {
        "id": "ZZhhcbZaEW7F",
        "colab_type": "text"
      },
      "source": [
        "Now that we have the dataframe, our next task is to split the data into *training* and *validation data*.<br>\n",
        "<br>\n",
        "Here we split the data into 0.7 and 0.3 fractions of the dataset respecitvely.<br>\n",
        "Note that we need to make sure the data is balanced. Hence, we apply the **stratify** method on the sentiment column of the dataframe. "
      ]
    },
    {
      "cell_type": "code",
      "metadata": {
        "id": "G7fzxn8osQXa",
        "colab_type": "code",
        "colab": {}
      },
      "source": [
        "from sklearn.model_selection import train_test_split\n",
        "\n",
        "train_data, test_data = train_test_split(df, test_size=0.3, shuffle=True, random_state=2, stratify=df.sentiment)"
      ],
      "execution_count": 3,
      "outputs": []
    },
    {
      "cell_type": "code",
      "metadata": {
        "id": "xV_1PsljsU84",
        "colab_type": "code",
        "colab": {
          "base_uri": "https://localhost:8080/",
          "height": 134
        },
        "outputId": "21711cfd-c70f-456a-8d90-f7b29b564da0"
      },
      "source": [
        "print(train_data['sentiment'].value_counts())\n",
        "print('-'*100)\n",
        "print(test_data['sentiment'].value_counts())"
      ],
      "execution_count": 4,
      "outputs": [
        {
          "output_type": "stream",
          "text": [
            "1    17500\n",
            "0    17500\n",
            "Name: sentiment, dtype: int64\n",
            "----------------------------------------------------------------------------------------------------\n",
            "1    7500\n",
            "0    7500\n",
            "Name: sentiment, dtype: int64\n"
          ],
          "name": "stdout"
        }
      ]
    },
    {
      "cell_type": "markdown",
      "metadata": {
        "id": "mmh1zlc2H5Ne",
        "colab_type": "text"
      },
      "source": [
        "Hence we verified that both the sets are balanced.<br>\n",
        "<br>\n",
        "Now we start off with **data transformation** where we format the data in a way the model can utilise.<br>\n",
        "We start by creating two numpy arrays for each set - one array for sentences and the other array for the labels."
      ]
    },
    {
      "cell_type": "code",
      "metadata": {
        "id": "878geyehsaMq",
        "colab_type": "code",
        "colab": {}
      },
      "source": [
        "training_sentences = []\n",
        "training_labels = []\n",
        "\n",
        "testing_sentences = []\n",
        "testing_labels = []\n",
        "\n",
        "training_sentences = np.array(train_data['review'])\n",
        "testing_sentences = np.array(test_data['review'])\n",
        "\n",
        "training_labels = np.array(train_data['sentiment'])\n",
        "testing_labels = np.array(test_data['sentiment'])"
      ],
      "execution_count": 5,
      "outputs": []
    },
    {
      "cell_type": "markdown",
      "metadata": {
        "id": "6xwfPi0aJsXm",
        "colab_type": "text"
      },
      "source": [
        "Here we focus on two important steps we take regarding **feature engineering**:\n",
        "\n",
        "\n",
        "1.   Tokenization\n",
        "2.   Padding\n",
        "\n",
        "###Tokenization\n",
        "The process involves building a word index dictionary which tokenizes each word in the training set i.e. we index every unique word in the training dataset.<br>\n",
        "We also define a character \\<OOV\\> which will replace all the words that are not in the top 20000 recurring words in the word index.\n",
        "<br>\n",
        "###Padding\n",
        "Every sentence in the dataset would not have the same number of words obviously. Now this is a problem because neural networks expect a fixed input size.<br>\n",
        "We overcome this problem by keeping a fixed input size of 150 and pad the shorter sentences such that they possess the same shape. Also, we have set the truncation type to *post* which means, when it comes to sentences longer than 150 words, only the first 150 words would be taken into account and the rest of the words would simply be trimmed off."
      ]
    },
    {
      "cell_type": "code",
      "metadata": {
        "id": "mpMn0JsXseAu",
        "colab_type": "code",
        "colab": {}
      },
      "source": [
        "vocab_size = 20000\n",
        "embedding_dim = 16\n",
        "max_length = 150\n",
        "trunc_type='post'\n",
        "oov_tok = \"<OOV>\"\n",
        "\n",
        "from tensorflow.keras.preprocessing.text import Tokenizer\n",
        "from tensorflow.keras.preprocessing.sequence import pad_sequences\n",
        "\n",
        "tokenizer = Tokenizer(num_words = vocab_size, oov_token=oov_tok)\n",
        "tokenizer.fit_on_texts(training_sentences)\n",
        "word_index = tokenizer.word_index\n",
        "sequences = tokenizer.texts_to_sequences(training_sentences)\n",
        "padded = pad_sequences(sequences, maxlen=max_length, truncating=trunc_type)\n",
        "\n",
        "testing_sequences = tokenizer.texts_to_sequences(testing_sentences)\n",
        "testing_padded = pad_sequences(testing_sequences, maxlen=max_length)"
      ],
      "execution_count": 6,
      "outputs": []
    },
    {
      "cell_type": "markdown",
      "metadata": {
        "id": "5WmybOVoNckc",
        "colab_type": "text"
      },
      "source": [
        "Let's verify our code by printing the indices of a couple of random words."
      ]
    },
    {
      "cell_type": "code",
      "metadata": {
        "id": "p9ok-BoXsiDA",
        "colab_type": "code",
        "colab": {
          "base_uri": "https://localhost:8080/",
          "height": 50
        },
        "outputId": "e238aad4-d748-4717-eb20-6db3b6f556c7"
      },
      "source": [
        "print(word_index['hello'])\n",
        "print(word_index['awesome'])"
      ],
      "execution_count": 7,
      "outputs": [
        {
          "output_type": "stream",
          "text": [
            "5056\n",
            "1166\n"
          ],
          "name": "stdout"
        }
      ]
    },
    {
      "cell_type": "markdown",
      "metadata": {
        "id": "NnbMu2lMProt",
        "colab_type": "text"
      },
      "source": [
        "Now let's verify the padding process by printing the indices of a sentence without and with padding respectively."
      ]
    },
    {
      "cell_type": "code",
      "metadata": {
        "id": "NjgEckruslhj",
        "colab_type": "code",
        "colab": {
          "base_uri": "https://localhost:8080/",
          "height": 54
        },
        "outputId": "ede99547-879e-42d7-84a8-80b4e7a39783"
      },
      "source": [
        "print(sequences[1])"
      ],
      "execution_count": 8,
      "outputs": [
        {
          "output_type": "stream",
          "text": [
            "[181, 799, 17, 3745, 97, 5, 12, 561, 692, 13, 2, 113, 14, 11388, 76, 133, 150, 627, 197, 4, 50, 118, 2, 1025, 14, 881, 220, 10, 91, 23, 528, 138, 11, 502, 379, 23, 49, 2, 476, 109, 14, 374, 11, 90, 121, 117, 34, 165, 41, 535, 769, 244, 37, 12, 3, 140, 62, 9873, 1, 1, 308, 12, 7, 3745, 207, 9, 7, 2511]\n"
          ],
          "name": "stdout"
        }
      ]
    },
    {
      "cell_type": "code",
      "metadata": {
        "id": "OsUzNuywsqf7",
        "colab_type": "code",
        "colab": {
          "base_uri": "https://localhost:8080/",
          "height": 235
        },
        "outputId": "1e6a4ff9-adb3-4754-9b4c-9b19742e079c"
      },
      "source": [
        "print(padded[1])"
      ],
      "execution_count": 9,
      "outputs": [
        {
          "output_type": "stream",
          "text": [
            "[    0     0     0     0     0     0     0     0     0     0     0     0\n",
            "     0     0     0     0     0     0     0     0     0     0     0     0\n",
            "     0     0     0     0     0     0     0     0     0     0     0     0\n",
            "     0     0     0     0     0     0     0     0     0     0     0     0\n",
            "     0     0     0     0     0     0     0     0     0     0     0     0\n",
            "     0     0     0     0     0     0     0     0     0     0     0     0\n",
            "     0     0     0     0     0     0     0     0     0     0   181   799\n",
            "    17  3745    97     5    12   561   692    13     2   113    14 11388\n",
            "    76   133   150   627   197     4    50   118     2  1025    14   881\n",
            "   220    10    91    23   528   138    11   502   379    23    49     2\n",
            "   476   109    14   374    11    90   121   117    34   165    41   535\n",
            "   769   244    37    12     3   140    62  9873     1     1   308    12\n",
            "     7  3745   207     9     7  2511]\n"
          ],
          "name": "stdout"
        }
      ]
    },
    {
      "cell_type": "markdown",
      "metadata": {
        "id": "q_5EnzclQRFG",
        "colab_type": "text"
      },
      "source": [
        "Looks perfect!\n",
        "<br><br>\n",
        "Now let's find a way to get the sentence from the padded indices sequences! This can be accomplished by having a reverse word index which has the indices as the keys and the corresponding words as the values."
      ]
    },
    {
      "cell_type": "code",
      "metadata": {
        "id": "79JQGP__svzj",
        "colab_type": "code",
        "colab": {
          "base_uri": "https://localhost:8080/",
          "height": 87
        },
        "outputId": "6c46ac70-da01-480c-f89d-1c451dfb1cc4"
      },
      "source": [
        "reverse_word_index = dict([(value, key) for (key, value) in word_index.items()])\n",
        "\n",
        "def decode_review(text):\n",
        "    return ' '.join([reverse_word_index.get(i, '?') for i in text])\n",
        "\n",
        "print(decode_review(padded[1]))\n",
        "print('-'*100)\n",
        "print(training_sentences[1])"
      ],
      "execution_count": 10,
      "outputs": [
        {
          "output_type": "stream",
          "text": [
            "? ? ? ? ? ? ? ? ? ? ? ? ? ? ? ? ? ? ? ? ? ? ? ? ? ? ? ? ? ? ? ? ? ? ? ? ? ? ? ? ? ? ? ? ? ? ? ? ? ? ? ? ? ? ? ? ? ? ? ? ? ? ? ? ? ? ? ? ? ? ? ? ? ? ? ? ? ? ? ? ? ? quite typical for swedish movies of this type strange that the acting was soooo bad these actors usually give a good show the casting was poorly done it made you expect something i won't tell you what the lead character was awful i don't know where they find her anyway stay away from this and go see den <OOV> <OOV> instead this is swedish action in is prime\n",
            "----------------------------------------------------------------------------------------------------\n",
            "Quite typical for swedish movies of this type. Strange that the acting was soooo bad, these actors usually give a good show. The casting was poorly done, it made you expect something (I won't tell you what). The lead character was awful... I don't know where they find her. Anyway, stay away from this and go see \"Den Tredje Vågen\" instead, this is swedish action in is prime.\n"
          ],
          "name": "stdout"
        }
      ]
    },
    {
      "cell_type": "markdown",
      "metadata": {
        "id": "uRIkoe_KQzX0",
        "colab_type": "text"
      },
      "source": [
        "We can compare the original sentence with the decoded sentence and notice the padding and the removal of punctuations.\n",
        "<br>\n",
        "<br>\n",
        "Now let's move ahead to defining and training the model. \n",
        "<br>\n",
        "I'm gonna create a custom callback which stops training the model when the training accuracy reaches 95%."
      ]
    },
    {
      "cell_type": "code",
      "metadata": {
        "id": "EdbNeVous3v0",
        "colab_type": "code",
        "colab": {}
      },
      "source": [
        "class myCallback(tf.keras.callbacks.Callback):\n",
        "  def on_epoch_end(self, epoch, logs={}):\n",
        "    if(logs.get('accuracy')>0.95):\n",
        "      print(\"\\nReached 95.0% accuracy so cancelling training!\")\n",
        "      self.model.stop_training = True\n",
        "\n",
        "callbacks = myCallback() "
      ],
      "execution_count": 11,
      "outputs": []
    },
    {
      "cell_type": "markdown",
      "metadata": {
        "id": "USzpb5FYRwV7",
        "colab_type": "text"
      },
      "source": [
        "Alright let's build the model!<br>\n",
        "The layers are as follows:\n",
        "\n",
        "\n",
        "1.   An Embedding layer\n",
        "2.   A bi-directional LSTM layer with 128 units\n",
        "3.   A bi-directional LSTM layer with 32 units\n",
        "4.   A dense layer with 6 units and ReLU activation\n",
        "5.   Output layer with a single dense unit with sigmoid activation for binary classification \n",
        "\n",
        "The model is using *Adam* as the optimizer with a learning rate of 0.002 (which was determined using the *learning rate scheduler* as the optimum one. Also, the model uses *binary_crossentropy* which is the de-facto standard for binary classification.\n",
        "Let's measure the performance of the model with *accuracy* as the metric.\n",
        "\n"
      ]
    },
    {
      "cell_type": "code",
      "metadata": {
        "id": "eiTjKn2Ns-F5",
        "colab_type": "code",
        "colab": {
          "base_uri": "https://localhost:8080/",
          "height": 319
        },
        "outputId": "0a0a1458-03a0-47e0-bfdf-4e67c007e359"
      },
      "source": [
        "model = tf.keras.Sequential([\n",
        "    tf.keras.layers.Embedding(vocab_size, embedding_dim, input_length=max_length),\n",
        "    #tf.keras.layers.Bidirectional(tf.keras.layers.GRU(128)),\n",
        "    tf.keras.layers.Bidirectional(tf.keras.layers.LSTM(128, return_sequences=True)),\n",
        "    tf.keras.layers.Bidirectional(tf.keras.layers.LSTM(32)),\n",
        "    tf.keras.layers.Dense(6, activation='relu'),\n",
        "    tf.keras.layers.Dense(1, activation='sigmoid')\n",
        "])\n",
        "\n",
        "optimizer = tf.keras.optimizers.Adam(lr=2e-3)\n",
        "\n",
        "model.compile(loss='binary_crossentropy', optimizer=optimizer, metrics=['accuracy'])\n",
        "model.summary()\n",
        "\n",
        "\n"
      ],
      "execution_count": 12,
      "outputs": [
        {
          "output_type": "stream",
          "text": [
            "Model: \"sequential\"\n",
            "_________________________________________________________________\n",
            "Layer (type)                 Output Shape              Param #   \n",
            "=================================================================\n",
            "embedding (Embedding)        (None, 150, 16)           320000    \n",
            "_________________________________________________________________\n",
            "bidirectional (Bidirectional (None, 150, 256)          148480    \n",
            "_________________________________________________________________\n",
            "bidirectional_1 (Bidirection (None, 64)                73984     \n",
            "_________________________________________________________________\n",
            "dense (Dense)                (None, 6)                 390       \n",
            "_________________________________________________________________\n",
            "dense_1 (Dense)              (None, 1)                 7         \n",
            "=================================================================\n",
            "Total params: 542,861\n",
            "Trainable params: 542,861\n",
            "Non-trainable params: 0\n",
            "_________________________________________________________________\n"
          ],
          "name": "stdout"
        }
      ]
    },
    {
      "cell_type": "code",
      "metadata": {
        "id": "U6c9UwQMYXCd",
        "colab_type": "code",
        "colab": {}
      },
      "source": [
        "lr_schedule = tf.keras.callbacks.LearningRateScheduler(\n",
        "    lambda epoch: 1e-3 * 10**(epoch / 20))"
      ],
      "execution_count": 13,
      "outputs": []
    },
    {
      "cell_type": "code",
      "metadata": {
        "id": "DW3MJcQStA2v",
        "colab_type": "code",
        "colab": {
          "base_uri": "https://localhost:8080/",
          "height": 286
        },
        "outputId": "7637e56b-7695-4226-ddde-797a6b56bb71"
      },
      "source": [
        "num_epochs = 50\n",
        "history = model.fit(padded, training_labels, epochs=num_epochs, validation_data=(testing_padded, testing_labels), callbacks=[\n",
        "                                                                                                                             #lr_schedule, \n",
        "                                                                                                                             callbacks])"
      ],
      "execution_count": 14,
      "outputs": [
        {
          "output_type": "stream",
          "text": [
            "Epoch 1/50\n",
            "1094/1094 [==============================] - 41s 37ms/step - loss: 0.6851 - accuracy: 0.5441 - val_loss: 0.6448 - val_accuracy: 0.6497\n",
            "Epoch 2/50\n",
            "1094/1094 [==============================] - 40s 37ms/step - loss: 0.6269 - accuracy: 0.6444 - val_loss: 0.5318 - val_accuracy: 0.7566\n",
            "Epoch 3/50\n",
            "1094/1094 [==============================] - 40s 36ms/step - loss: 0.4482 - accuracy: 0.8051 - val_loss: 0.3654 - val_accuracy: 0.8506\n",
            "Epoch 4/50\n",
            "1094/1094 [==============================] - 40s 36ms/step - loss: 0.3099 - accuracy: 0.8811 - val_loss: 0.3223 - val_accuracy: 0.8708\n",
            "Epoch 5/50\n",
            "1094/1094 [==============================] - 40s 36ms/step - loss: 0.2233 - accuracy: 0.9216 - val_loss: 0.3317 - val_accuracy: 0.8682\n",
            "Epoch 6/50\n",
            "1094/1094 [==============================] - 40s 37ms/step - loss: 0.1626 - accuracy: 0.9480 - val_loss: 0.3745 - val_accuracy: 0.8664\n",
            "Epoch 7/50\n",
            "1093/1094 [============================>.] - ETA: 0s - loss: 0.1256 - accuracy: 0.9628\n",
            "Reached 95.0% accuracy so cancelling training!\n",
            "1094/1094 [==============================] - 40s 36ms/step - loss: 0.1257 - accuracy: 0.9628 - val_loss: 0.4169 - val_accuracy: 0.8589\n"
          ],
          "name": "stdout"
        }
      ]
    },
    {
      "cell_type": "markdown",
      "metadata": {
        "id": "zE-2hPgWTRgq",
        "colab_type": "text"
      },
      "source": [
        "We notice the model stops training with 96.28% training accuracy and 85.89% test accuracy."
      ]
    },
    {
      "cell_type": "code",
      "metadata": {
        "id": "8GzhJj3oYaVX",
        "colab_type": "code",
        "colab": {
          "base_uri": "https://localhost:8080/",
          "height": 35
        },
        "outputId": "13b84260-eaf3-42a9-9328-ae261f5d5d79"
      },
      "source": [
        "import matplotlib.pyplot as plt\n",
        "\"\"\"\n",
        "plt.semilogx(history.history[\"lr\"], history.history[\"loss\"])\n",
        "plt.axis([1e-3, 2e-3, 0, 2])\"\"\""
      ],
      "execution_count": 15,
      "outputs": [
        {
          "output_type": "execute_result",
          "data": {
            "application/vnd.google.colaboratory.intrinsic+json": {
              "type": "string"
            },
            "text/plain": [
              "'\\nplt.semilogx(history.history[\"lr\"], history.history[\"loss\"])\\nplt.axis([1e-3, 2e-3, 0, 2])'"
            ]
          },
          "metadata": {
            "tags": []
          },
          "execution_count": 15
        }
      ]
    },
    {
      "cell_type": "code",
      "metadata": {
        "id": "RJxguuCGtFPV",
        "colab_type": "code",
        "colab": {
          "base_uri": "https://localhost:8080/",
          "height": 541
        },
        "outputId": "447e3d4e-67ec-4747-dd7b-9da4523b1976"
      },
      "source": [
        "def plot_graphs(history, string):\n",
        "  plt.plot(history.history[string])\n",
        "  plt.plot(history.history['val_'+string])\n",
        "  plt.xlabel(\"Epochs\")\n",
        "  plt.ylabel(string)\n",
        "  plt.legend([string, 'val_'+string])\n",
        "  plt.show()\n",
        "\n",
        "plot_graphs(history, 'accuracy')\n",
        "plot_graphs(history, 'loss')"
      ],
      "execution_count": 16,
      "outputs": [
        {
          "output_type": "display_data",
          "data": {
            "image/png": "[encoded data removed]",
            "text/plain": [
              "<Figure size 432x288 with 1 Axes>"
            ]
          },
          "metadata": {
            "tags": [],
            "needs_background": "light"
          }
        },
        {
          "output_type": "display_data",
          "data": {
            "image/png": "[encoded data removed]",
            "text/plain": [
              "<Figure size 432x288 with 1 Axes>"
            ]
          },
          "metadata": {
            "tags": [],
            "needs_background": "light"
          }
        }
      ]
    },
    {
      "cell_type": "markdown",
      "metadata": {
        "id": "F-8c-xTmTOO1",
        "colab_type": "text"
      },
      "source": [
        "We notice two things:\n",
        "\n",
        "\n",
        "*   The validation accuracy curve flattens with the third epoch whereas the training accuracy keeps increasing.\n",
        "*   The validation loss starts increasing after the third-fourth epoch whereas the training loss keeps decreasing\n",
        "\n",
        "This suggests that our model is overfitting!<br>\n",
        "But, I am going to leave it here since 86% accuracy is pretty decent.\n",
        "<br>\n",
        "Let us now visualise the trained weights of the model using the [Embedding projector](https://projector.tensorflow.org/) provided by TensorFlow.\n",
        "\n",
        "\n"
      ]
    },
    {
      "cell_type": "code",
      "metadata": {
        "id": "pBadgjbGtfqs",
        "colab_type": "code",
        "colab": {
          "base_uri": "https://localhost:8080/",
          "height": 34
        },
        "outputId": "7a8ae8b0-562b-4394-bde8-d4bc32ee929b"
      },
      "source": [
        "e = model.layers[0]\n",
        "weights = e.get_weights()[0]\n",
        "print(weights.shape) "
      ],
      "execution_count": 17,
      "outputs": [
        {
          "output_type": "stream",
          "text": [
            "(20000, 16)\n"
          ],
          "name": "stdout"
        }
      ]
    },
    {
      "cell_type": "code",
      "metadata": {
        "id": "IaA8DX6x3uEm",
        "colab_type": "code",
        "colab": {}
      },
      "source": [
        "import io\n",
        "\n",
        "out_v = io.open('vecs.tsv', 'w', encoding='utf-8')\n",
        "out_m = io.open('meta.tsv', 'w', encoding='utf-8')\n",
        "for word_num in range(1, vocab_size):\n",
        "  word = reverse_word_index[word_num]\n",
        "  embeddings = weights[word_num]\n",
        "  out_m.write(word + \"\\n\")\n",
        "  out_v.write('\\t'.join([str(x) for x in embeddings]) + \"\\n\")\n",
        "out_v.close()\n",
        "out_m.close()"
      ],
      "execution_count": 18,
      "outputs": []
    },
    {
      "cell_type": "code",
      "metadata": {
        "id": "179tGH2I3yxu",
        "colab_type": "code",
        "colab": {
          "base_uri": "https://localhost:8080/",
          "height": 17
        },
        "outputId": "3c86fe56-925d-4c2e-bf99-056741ae9b80"
      },
      "source": [
        "try:\n",
        "  from google.colab import files\n",
        "except ImportError:\n",
        "  pass\n",
        "else:\n",
        "  files.download('vecs.tsv')\n",
        "  files.download('meta.tsv')"
      ],
      "execution_count": 23,
      "outputs": [
        {
          "output_type": "display_data",
          "data": {
            "application/javascript": [
              "\n",
              "    async function download(id, filename, size) {\n",
              "      if (!google.colab.kernel.accessAllowed) {\n",
              "        return;\n",
              "      }\n",
              "      const div = document.createElement('div');\n",
              "      const label = document.createElement('label');\n",
              "      label.textContent = `Downloading \"${filename}\": `;\n",
              "      div.appendChild(label);\n",
              "      const progress = document.createElement('progress');\n",
              "      progress.max = size;\n",
              "      div.appendChild(progress);\n",
              "      document.body.appendChild(div);\n",
              "\n",
              "      const buffers = [];\n",
              "      let downloaded = 0;\n",
              "\n",
              "      const channel = await google.colab.kernel.comms.open(id);\n",
              "      // Send a message to notify the kernel that we're ready.\n",
              "      channel.send({})\n",
              "\n",
              "      for await (const message of channel.messages) {\n",
              "        // Send a message to notify the kernel that we're ready.\n",
              "        channel.send({})\n",
              "        if (message.buffers) {\n",
              "          for (const buffer of message.buffers) {\n",
              "            buffers.push(buffer);\n",
              "            downloaded += buffer.byteLength;\n",
              "            progress.value = downloaded;\n",
              "          }\n",
              "        }\n",
              "      }\n",
              "      const blob = new Blob(buffers, {type: 'application/binary'});\n",
              "      const a = document.createElement('a');\n",
              "      a.href = window.URL.createObjectURL(blob);\n",
              "      a.download = filename;\n",
              "      div.appendChild(a);\n",
              "      a.click();\n",
              "      div.remove();\n",
              "    }\n",
              "  "
            ],
            "text/plain": [
              "<IPython.core.display.Javascript object>"
            ]
          },
          "metadata": {
            "tags": []
          }
        },
        {
          "output_type": "display_data",
          "data": {
            "application/javascript": [
              "download(\"download_b8e9f3d7-7b05-4ec4-9d78-cf204f133198\", \"vecs.tsv\", 3712187)"
            ],
            "text/plain": [
              "<IPython.core.display.Javascript object>"
            ]
          },
          "metadata": {
            "tags": []
          }
        },
        {
          "output_type": "display_data",
          "data": {
            "application/javascript": [
              "\n",
              "    async function download(id, filename, size) {\n",
              "      if (!google.colab.kernel.accessAllowed) {\n",
              "        return;\n",
              "      }\n",
              "      const div = document.createElement('div');\n",
              "      const label = document.createElement('label');\n",
              "      label.textContent = `Downloading \"${filename}\": `;\n",
              "      div.appendChild(label);\n",
              "      const progress = document.createElement('progress');\n",
              "      progress.max = size;\n",
              "      div.appendChild(progress);\n",
              "      document.body.appendChild(div);\n",
              "\n",
              "      const buffers = [];\n",
              "      let downloaded = 0;\n",
              "\n",
              "      const channel = await google.colab.kernel.comms.open(id);\n",
              "      // Send a message to notify the kernel that we're ready.\n",
              "      channel.send({})\n",
              "\n",
              "      for await (const message of channel.messages) {\n",
              "        // Send a message to notify the kernel that we're ready.\n",
              "        channel.send({})\n",
              "        if (message.buffers) {\n",
              "          for (const buffer of message.buffers) {\n",
              "            buffers.push(buffer);\n",
              "            downloaded += buffer.byteLength;\n",
              "            progress.value = downloaded;\n",
              "          }\n",
              "        }\n",
              "      }\n",
              "      const blob = new Blob(buffers, {type: 'application/binary'});\n",
              "      const a = document.createElement('a');\n",
              "      a.href = window.URL.createObjectURL(blob);\n",
              "      a.download = filename;\n",
              "      div.appendChild(a);\n",
              "      a.click();\n",
              "      div.remove();\n",
              "    }\n",
              "  "
            ],
            "text/plain": [
              "<IPython.core.display.Javascript object>"
            ]
          },
          "metadata": {
            "tags": []
          }
        },
        {
          "output_type": "display_data",
          "data": {
            "application/javascript": [
              "download(\"download_bcbbc69b-8c12-44cf-b97e-deb8e9260092\", \"meta.tsv\", 158525)"
            ],
            "text/plain": [
              "<IPython.core.display.Javascript object>"
            ]
          },
          "metadata": {
            "tags": []
          }
        }
      ]
    },
    {
      "cell_type": "markdown",
      "metadata": {
        "id": "KgWdsRazWgpN",
        "colab_type": "text"
      },
      "source": [
        "![projector_snap](https://github.com/soundarzozm/IMDb-Sentiment_Analysis/blob/master/projector.jpg?raw=true)\n"
      ]
    },
    {
      "cell_type": "markdown",
      "metadata": {
        "id": "Y0gcTNb5W0_2",
        "colab_type": "text"
      },
      "source": [
        "We notice how the three dimensional PCA (out of scope) space consists of two clusters on an axis.<br><br>\n",
        "It is easily interpreted that one cluster has the words that have positive effects and the other cluster has the words with negative effects.<br><br>\n",
        "Alright, now let's test our model by manually entering reviews ourselves and see how the model performs!"
      ]
    },
    {
      "cell_type": "code",
      "metadata": {
        "id": "5CqYmxoMgHtr",
        "colab_type": "code",
        "colab": {}
      },
      "source": [
        "def predict_sentiment(text, model):\n",
        "  testing_sentences=[]\n",
        "  testing_sentences.append(text)\n",
        "  testing_sentences = np.array(testing_sentences)\n",
        "  testing_sequences = tokenizer.texts_to_sequences(testing_sentences)\n",
        "  testing_padded = pad_sequences(testing_sequences, maxlen=max_length)\n",
        "  result = model.predict(testing_padded)\n",
        "  if result>0.5:\n",
        "    return \"Liked it!\", result\n",
        "  else:\n",
        "    return \"Didn't like it.\", result  \n",
        "  "
      ],
      "execution_count": 20,
      "outputs": []
    },
    {
      "cell_type": "markdown",
      "metadata": {
        "id": "8BHrFqiXXwJ1",
        "colab_type": "text"
      },
      "source": [
        "Let's provide a short negative review."
      ]
    },
    {
      "cell_type": "code",
      "metadata": {
        "id": "y1FX6mIQgK9q",
        "colab_type": "code",
        "colab": {
          "base_uri": "https://localhost:8080/",
          "height": 34
        },
        "outputId": "abab97fd-d5cb-4f6c-abbc-3d3d657e21f9"
      },
      "source": [
        "predict_sentiment(\"This movie was a waste of time!\", model)"
      ],
      "execution_count": 21,
      "outputs": [
        {
          "output_type": "execute_result",
          "data": {
            "text/plain": [
              "(\"Didn't like it.\", array([[0.04997756]], dtype=float32))"
            ]
          },
          "metadata": {
            "tags": []
          },
          "execution_count": 21
        }
      ]
    },
    {
      "cell_type": "markdown",
      "metadata": {
        "id": "VnBOHpLrX0cz",
        "colab_type": "text"
      },
      "source": [
        "Okay so our model got it right!<br>\n",
        "<br>\n",
        "Now let's try a short positive review."
      ]
    },
    {
      "cell_type": "code",
      "metadata": {
        "id": "U99ipMJ9hgze",
        "colab_type": "code",
        "colab": {
          "base_uri": "https://localhost:8080/",
          "height": 34
        },
        "outputId": "abfcd709-7a78-463f-e70c-367e425549e9"
      },
      "source": [
        "predict_sentiment(\"This movie was terrific! I had a great time!\", model)"
      ],
      "execution_count": 22,
      "outputs": [
        {
          "output_type": "execute_result",
          "data": {
            "text/plain": [
              "('Liked it!', array([[0.96404606]], dtype=float32))"
            ]
          },
          "metadata": {
            "tags": []
          },
          "execution_count": 22
        }
      ]
    },
    {
      "cell_type": "markdown",
      "metadata": {
        "id": "xkYUN4gYX8c7",
        "colab_type": "text"
      },
      "source": [
        "Awesome! The model got this one too!"
      ]
    }
  ]
}